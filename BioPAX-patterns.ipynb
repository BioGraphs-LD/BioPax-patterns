{
 "cells": [
  {
   "cell_type": "markdown",
   "metadata": {},
   "source": [
    "# Presentation\n",
    "This notebook focuses on writing SPARQL queries for relevant BioPAX patterns.\n",
    "\n",
    "# Endpoint\n",
    "PathwayCommons offers a public sparql endpoint at http://rdf.pathwaycommons.org/sparql/"
   ]
  },
  {
   "cell_type": "code",
   "execution_count": 1,
   "metadata": {
    "collapsed": true
   },
   "outputs": [],
   "source": [
    "pathwayCommonsEndpoint = \\\n",
    "  \"https://www.ebi.ac.uk/rdf/services/reactome/sparql\""
   ]
  },
  {
   "cell_type": "code",
   "execution_count": 5,
   "metadata": {
    "collapsed": true
   },
   "outputs": [],
   "source": [
    "from SPARQLWrapper import SPARQLWrapper, JSON\n",
    "from IPython.display import display, Markdown \n",
    "    # for telling jupyter to display the result as markdown\n",
    "\n",
    "def runQuery(queryString, outputFormat=\"tsv\", varList=[], truncateAt=30):\n",
    "    \"\"\" Send the query to the endpoint and attempt \n",
    "    to nicely display the result.\n",
    "    \n",
    "    Possible values for outputFormat: \"tsv\", \"markdown\"\n",
    "    \"\"\"\n",
    "    sparql = SPARQLWrapper(pathwayCommonsEndpoint)\n",
    "    sparql.setQuery(queryString)\n",
    "    sparql.setReturnFormat(JSON)\n",
    "    results = sparql.query().convert()\n",
    "    if outputFormat == \"tsv\":\n",
    "        displayQueryResultAsTSV(results, varList)\n",
    "    elif outputFormat == \"markdown\":\n",
    "        displayQueryResultAsMarkdown(results, varList, truncateAt)\n",
    "\n",
    "def displayQueryResultAsTSV(queryResult, varList=[], truncateAt=30):\n",
    "    if len(queryResult[\"results\"][\"bindings\"]) == 0:\n",
    "        print(\"Empty result\")\n",
    "        return\n",
    "    if varList == []:\n",
    "        varList = [varName for varName in queryResult[\"results\"][\"bindings\"][0].keys()]\n",
    "    displayResult = \"\"\n",
    "    for currentVar in varList:\n",
    "        displayResult += currentVar + \"\\t\"\n",
    "    displayResult = displayResult[:-1] + \"\\n\"\n",
    "    for result in queryResult[\"results\"][\"bindings\"]:\n",
    "        for currentVar in varList:\n",
    "            if currentVar in result.keys():\n",
    "                displayResult += truncateString(result[currentVar]['value'], truncateAt) + \"\\t\"\n",
    "            else:\n",
    "                displayResult += \"\\t\"\n",
    "        displayResult = displayResult[:-1] + \"\\n\"\n",
    "    print(displayResult)\n",
    "\n",
    "def displayQueryResultAsMarkdown(queryResult, varList=[], truncateAt=30):\n",
    "    if len(queryResult[\"results\"][\"bindings\"]) == 0:\n",
    "        print(\"Empty result\")\n",
    "        return\n",
    "    if varList == []:\n",
    "        varList = [varName for varName in queryResult[\"results\"][\"bindings\"][0].keys()]\n",
    "    displayResult = \"\"\n",
    "    sepLine = \"\"\n",
    "    for currentVar in varList:\n",
    "        displayResult += \" | \" + currentVar\n",
    "        sepLine += \"| ---\"\n",
    "    displayResult += \"\\n\" + sepLine + \"\\n\"\n",
    "    for result in queryResult[\"results\"][\"bindings\"]:\n",
    "        for currentVar in varList:\n",
    "            if currentVar in result.keys():\n",
    "                displayResult += \"| \" + truncateString(result[currentVar]['value'], truncateAt) + \" \"\n",
    "            else:\n",
    "                displayResult += \"|  \"\n",
    "        displayResult += \" \\n\"\n",
    "    display(Markdown(displayResult))\n",
    "\n",
    "def truncateString(message, length=30):\n",
    "    if (length == -1) or (len(message) <= length):\n",
    "        return message\n",
    "    return message[:15] + \"...\" + message[-12:]"
   ]
  },
  {
   "cell_type": "code",
   "execution_count": 6,
   "metadata": {
    "collapsed": true
   },
   "outputs": [],
   "source": [
    "commonPrefixes = \"\"\"\n",
    "PREFIX rdf: <http://www.w3.org/1999/02/22-rdf-syntax-ns#>\n",
    "PREFIX rdfs: <http://www.w3.org/2000/01/rdf-schema#>\n",
    "PREFIX owl: <http://www.w3.org/2002/07/owl#>\n",
    "PREFIX xsd: <http://www.w3.org/2001/XMLSchema#>\n",
    "PREFIX dc: <http://purl.org/dc/elements/1.1/>\n",
    "PREFIX dcterms: <http://purl.org/dc/terms/>\n",
    "PREFIX foaf: <http://xmlns.com/foaf/0.1/>\n",
    "PREFIX skos: <http://www.w3.org/2004/02/skos/core#>\n",
    "PREFIX bp3: <http://www.biopax.org/release/biopax-level3.owl#>\n",
    "PREFIX taxon: <http://identifiers.org/taxonomy/>\n",
    "PREFIX reactome: <http://identifiers.org/reactome/>\n",
    "PREFIX release: <http://www.reactome.org/biopax/49/48887#>\n",
    "\n",
    "PREFIX up: <http://purl.uniprot.org/core/> \n",
    "PREFIX uniprot: <http://purl.uniprot.org/uniprot/>\n",
    "\n",
    "PREFIX chebi: <http://purl.obolibrary.org/obo/CHEBI_>\n",
    "PREFIX obo2: <http://purl.obolibrary.org/obo#>\n",
    "\n",
    "\"\"\""
   ]
  },
  {
   "cell_type": "code",
   "execution_count": 7,
   "metadata": {
    "collapsed": false
   },
   "outputs": [
    {
     "data": {
      "text/markdown": [
       " | nbPathways\n",
       "| ---\n",
       "| 21195  \n"
      ],
      "text/plain": [
       "<IPython.core.display.Markdown object>"
      ]
     },
     "metadata": {},
     "output_type": "display_data"
    }
   ],
   "source": [
    "queryNbPathways = \"\"\"\n",
    "#SELECT (count(DISTINCT ?pathway) as ?nbPathways)\n",
    "SELECT (count(DISTINCT ?pathway) as ?nbPathways)\n",
    "\n",
    "WHERE {\n",
    "  ?pathway rdf:type bp3:Pathway .\n",
    "}\n",
    "\"\"\"\n",
    "\n",
    "runQuery(commonPrefixes + queryNbPathways, \"markdown\", [])"
   ]
  },
  {
   "cell_type": "code",
   "execution_count": null,
   "metadata": {
    "collapsed": true
   },
   "outputs": [],
   "source": []
  }
 ],
 "metadata": {
  "kernelspec": {
   "display_name": "Python 3",
   "language": "python",
   "name": "python3"
  },
  "language_info": {
   "codemirror_mode": {
    "name": "ipython",
    "version": 3
   },
   "file_extension": ".py",
   "mimetype": "text/x-python",
   "name": "python",
   "nbconvert_exporter": "python",
   "pygments_lexer": "ipython3",
   "version": "3.5.3"
  }
 },
 "nbformat": 4,
 "nbformat_minor": 2
}
