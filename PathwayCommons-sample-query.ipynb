{
 "cells": [
  {
   "cell_type": "markdown",
   "metadata": {},
   "source": [
    "# SPARQL engine configuration\n",
    "\n"
   ]
  },
  {
   "cell_type": "code",
   "execution_count": 2,
   "metadata": {
    "collapsed": false
   },
   "outputs": [],
   "source": [
    "PC_Endpoint = \\\n",
    "  \"http://rdf.pathwaycommons.org/sparql\""
   ]
  },
  {
   "cell_type": "markdown",
   "metadata": {},
   "source": [
    "We will use the [sparqlwrapper library](http://rdflib.github.io/sparqlwrapper/).\n",
    "Executing the sparql queries is straightforward (cf. the first four lines of runQuery(...) below), but we introduce some auxiliary functions for nicely displaying the results."
   ]
  },
  {
   "cell_type": "code",
   "execution_count": 3,
   "metadata": {
    "collapsed": false
   },
   "outputs": [],
   "source": [
    "from SPARQLWrapper import SPARQLWrapper, JSON\n",
    "from IPython.display import display, Markdown \n",
    "    # for telling jupyter to display the result as markdown\n",
    "\n",
    "def runQuery(queryString, outputFormat=\"tsv\", varList=[], truncateAt=30):\n",
    "    \"\"\" Send the query to the endpoint and attempt \n",
    "    to nicely display the result.\n",
    "    \n",
    "    Possible values for outputFormat: \"tsv\", \"markdown\"\n",
    "    \"\"\"\n",
    "    sparql = SPARQLWrapper(PC_Endpoint)\n",
    "    sparql.setQuery(queryString)\n",
    "    sparql.setReturnFormat(JSON)\n",
    "    results = sparql.query().convert()\n",
    "    if outputFormat == \"tsv\":\n",
    "        displayQueryResultAsTSV(results, varList)\n",
    "    elif outputFormat == \"markdown\":\n",
    "        displayQueryResultAsMarkdown(results, varList, truncateAt)\n",
    "\n",
    "def displayQueryResultAsTSV(queryResult, varList=[], truncateAt=30):\n",
    "    if len(queryResult[\"results\"][\"bindings\"]) == 0:\n",
    "        print(\"Empty result\")\n",
    "        return\n",
    "    if varList == []:\n",
    "        varList = [varName for varName in queryResult[\"results\"][\"bindings\"][0].keys()]\n",
    "    displayResult = \"\"\n",
    "    for currentVar in varList:\n",
    "        displayResult += currentVar + \"\\t\"\n",
    "    displayResult = displayResult[:-1] + \"\\n\"\n",
    "    for result in queryResult[\"results\"][\"bindings\"]:\n",
    "        for currentVar in varList:\n",
    "            if currentVar in result.keys():\n",
    "                displayResult += truncateString(result[currentVar]['value'], truncateAt) + \"\\t\"\n",
    "            else:\n",
    "                displayResult += \"\\t\"\n",
    "        displayResult = displayResult[:-1] + \"\\n\"\n",
    "    print(displayResult)\n",
    "\n",
    "def displayQueryResultAsMarkdown(queryResult, varList=[], truncateAt=30):\n",
    "    if len(queryResult[\"results\"][\"bindings\"]) == 0:\n",
    "        print(\"Empty result\")\n",
    "        return\n",
    "    if varList == []:\n",
    "        varList = [varName for varName in queryResult[\"results\"][\"bindings\"][0].keys()]\n",
    "    displayResult = \"\"\n",
    "    sepLine = \"\"\n",
    "    for currentVar in varList:\n",
    "        displayResult += \" | \" + currentVar\n",
    "        sepLine += \"| ---\"\n",
    "    displayResult += \"\\n\" + sepLine + \"\\n\"\n",
    "    for result in queryResult[\"results\"][\"bindings\"]:\n",
    "        for currentVar in varList:\n",
    "            if currentVar in result.keys():\n",
    "                displayResult += \"| \" + truncateString(result[currentVar]['value'], truncateAt) + \" \"\n",
    "            else:\n",
    "                displayResult += \"|  \"\n",
    "        displayResult += \" \\n\"\n",
    "    display(Markdown(displayResult))\n",
    "\n",
    "def truncateString(message, length=30):\n",
    "    if (length == -1) or (len(message) <= length):\n",
    "        return message\n",
    "    return message[:15] + \"...\" + message[-12:]"
   ]
  },
  {
   "cell_type": "markdown",
   "metadata": {},
   "source": [
    "For the sake of clarity, we will define the usual prefixes in the ```commonPrefixes``` variable."
   ]
  },
  {
   "cell_type": "code",
   "execution_count": 17,
   "metadata": {
    "collapsed": false
   },
   "outputs": [],
   "source": [
    "commonPrefixes = \"\"\"\n",
    "PREFIX rdf: <http://www.w3.org/1999/02/22-rdf-syntax-ns#>\n",
    "PREFIX rdfs: <http://www.w3.org/2000/01/rdf-schema#>\n",
    "PREFIX owl: <http://www.w3.org/2002/07/owl#>\n",
    "PREFIX xsd: <http://www.w3.org/2001/XMLSchema#>\n",
    "PREFIX dc: <http://purl.org/dc/elements/1.1/>\n",
    "PREFIX dcterms: <http://purl.org/dc/terms/>\n",
    "PREFIX foaf: <http://xmlns.com/foaf/0.1/>\n",
    "PREFIX skos: <http://www.w3.org/2004/02/skos/core#>\n",
    "PREFIX bp3: <http://www.biopax.org/release/biopax-level3.owl#>\n",
    "PREFIX taxon: <http://identifiers.org/taxonomy/>\n",
    "PREFIX reactome: <http://identifiers.org/reactome/>\n",
    "PREFIX release: <http://www.reactome.org/biopax/49/48887#>\n",
    "\n",
    "PREFIX up: <http://purl.uniprot.org/core/> \n",
    "PREFIX uniprot: <http://purl.uniprot.org/uniprot/>\n",
    "PREFIX bp: <http://www.biopax.org/release/biopax-level3.owl#>\n",
    "PREFIX chebi: <http://purl.obolibrary.org/obo/CHEBI_>\n",
    "PREFIX obo2: <http://purl.obolibrary.org/obo#>\n",
    "\n",
    "\"\"\""
   ]
  },
  {
   "cell_type": "markdown",
   "metadata": {},
   "source": [
    "# Live PathwayCommons queries"
   ]
  },
  {
   "cell_type": "code",
   "execution_count": 15,
   "metadata": {
    "collapsed": false
   },
   "outputs": [
    {
     "data": {
      "text/markdown": [
       " | controllerName | type | source | tempReac | controlledName\n",
       "| ---| ---| ---| ---| ---\n",
       "| REPIN1 | ACTIVATION | http://pathwayc...pc2/transfac | http://pathwayc...ff97bc8f97a5 | Transcription of SCN5A  \n",
       "| TCF3 | ACTIVATION | http://pathwayc...pc2/transfac | http://pathwayc...a88033fa5a29 | Transcription of SCN5A  \n",
       "| MYB | ACTIVATION | http://pathwayc...pc2/transfac | http://pathwayc...5900714d2b9e | Transcription of SCN5A  \n",
       "| EGR3 | ACTIVATION | http://pathwayc...pc2/transfac | http://pathwayc...bab294e9646c | Transcription of SCN5A  \n",
       "| ESRRA | ACTIVATION | http://pathwayc...pc2/transfac | http://pathwayc...3fe2961481f1 | Transcription of SCN5A  \n",
       "| ESRRA | ACTIVATION | http://pathwayc...pc2/transfac | http://pathwayc...e4a28c60ee6f | Transcription of SCN5A  \n",
       "| TFAP2C | ACTIVATION | http://pathwayc...pc2/transfac | http://pathwayc...d2eae99095cd | Transcription of SCN5A  \n",
       "| JUN | ACTIVATION | http://pathwayc...pc2/transfac | http://pathwayc...5c2d68c57812 | Transcription of SCN5A  \n",
       "| SP3 | ACTIVATION | http://pathwayc...pc2/transfac | http://pathwayc...4d4d1e1a03c5 | Transcription of SCN5A  \n",
       "| TCF3 | ACTIVATION | http://pathwayc...pc2/transfac | http://pathwayc...aaabee8d8806 | Transcription of SCN5A  \n",
       "| TCF3 | ACTIVATION | http://pathwayc...pc2/transfac | http://pathwayc...9fa6ec03fe6d | Transcription of SCN5A  \n",
       "| TCF3 | ACTIVATION | http://pathwayc...pc2/transfac | http://pathwayc...27a80b256982 | Transcription of SCN5A  \n",
       "| TCF3 | ACTIVATION | http://pathwayc...pc2/transfac | http://pathwayc...21ad5a88fc55 | Transcription of SCN5A  \n",
       "| TFAP2A | ACTIVATION | http://pathwayc...pc2/transfac | http://pathwayc...16bef8806f83 | Transcription of SCN5A  \n",
       "| TCF3 | ACTIVATION | http://pathwayc...pc2/transfac | http://pathwayc...2432667540ab | Transcription of SCN5A  \n",
       "| EGR2 | ACTIVATION | http://pathwayc...pc2/transfac | http://pathwayc...203810ddf863 | Transcription of SCN5A  \n",
       "| SF1 | ACTIVATION | http://pathwayc...pc2/transfac | http://pathwayc...2984d6aa58ee | Transcription of SCN5A  \n",
       "| MAZ | ACTIVATION | http://pathwayc...pc2/transfac | http://pathwayc...0624a07f2b22 | Transcription of SCN5A  \n",
       "| ZEB1 | ACTIVATION | http://pathwayc...pc2/transfac | http://pathwayc...bf8d03d91ec0 | Transcription of SCN5A  \n",
       "| MYOD1 | ACTIVATION | http://pathwayc...pc2/transfac | http://pathwayc...ba3ae6babac4 | Transcription of SCN5A  \n"
      ],
      "text/plain": [
       "<IPython.core.display.Markdown object>"
      ]
     },
     "metadata": {},
     "output_type": "display_data"
    }
   ],
   "source": [
    "queryTFControllers = \"\"\"\n",
    "SELECT ?tempReac ?type ?controlledName ?controllerName ?source WHERE{ \n",
    "    FILTER( (?controlledName = 'Transcription of SCN5A'^^<http://www.w3.org/2001/XMLSchema#string>)\n",
    "        and (?controllerName != 'SCN5A')\n",
    "        and (?source != 'mirtarbase') ) .\n",
    "    ?tempReac a bp:TemplateReactionRegulation .\n",
    "    ?tempReac bp:displayName ?reacName ; \n",
    "        bp:controlled ?controlled ; \n",
    "        bp:controller ?controller ; \n",
    "        bp:controlType ?type ; \n",
    "        bp:dataSource ?source .\n",
    "    ?controlled bp:displayName ?controlledName .\n",
    "    ?controller bp:displayName ?controllerName . }\n",
    "GROUP BY ?controlledName ?controllerName\n",
    "\"\"\"\n",
    "runQuery(commonPrefixes + queryTFControllers, \"markdown\", [])"
   ]
  },
  {
   "cell_type": "code",
   "execution_count": null,
   "metadata": {
    "collapsed": true
   },
   "outputs": [],
   "source": []
  }
 ],
 "metadata": {
  "anaconda-cloud": {},
  "kernelspec": {
   "display_name": "Python [python-dev]",
   "language": "python",
   "name": "Python [python-dev]"
  },
  "language_info": {
   "codemirror_mode": {
    "name": "ipython",
    "version": 3
   },
   "file_extension": ".py",
   "mimetype": "text/x-python",
   "name": "python",
   "nbconvert_exporter": "python",
   "pygments_lexer": "ipython3",
   "version": "3.5.3"
  }
 },
 "nbformat": 4,
 "nbformat_minor": 2
}
